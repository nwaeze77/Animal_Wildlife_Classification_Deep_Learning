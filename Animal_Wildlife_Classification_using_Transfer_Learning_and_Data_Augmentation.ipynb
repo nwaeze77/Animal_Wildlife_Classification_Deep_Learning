{
  "cells": [
    {
      "cell_type": "markdown",
      "metadata": {
        "id": "view-in-github",
        "colab_type": "text"
      },
      "source": [
        "<a href=\"https://colab.research.google.com/github/nwaeze77/Animal_Wildlife_Classification_Deep_Learning/blob/main/Animal_Wildlife_Classification_using_Transfer_Learning_and_Data_Augmentation.ipynb\" target=\"_parent\"><img src=\"https://colab.research.google.com/assets/colab-badge.svg\" alt=\"Open In Colab\"/></a>"
      ]
    },
    {
      "cell_type": "markdown",
      "metadata": {
        "id": "4nq1j1EJlO5e"
      },
      "source": [
        "Loading the necessary libraries"
      ]
    },
    {
      "cell_type": "code",
      "execution_count": null,
      "metadata": {
        "id": "dXhWhpqfNoRl"
      },
      "outputs": [],
      "source": [
        "import os\n",
        "import shutil\n",
        "import random\n",
        "from zipfile import ZipFile, BadZipfile\n",
        "\n",
        "import pandas as pd\n",
        "import numpy as np\n",
        "import matplotlib.pyplot as plt\n",
        "import matplotlib.patches as patches\n",
        "\n",
        "import cv2\n",
        "\n",
        "import tensorflow as tf\n",
        "from tensorflow import keras\n",
        "from tensorflow.keras import layers\n",
        "from tensorflow.keras.preprocessing import image_dataset_from_directory\n",
        "from tensorflow.keras.metrics import Precision, Recall, Accuracy\n",
        "from tensorflow.keras.optimizers import Adam"
      ]
    },
    {
      "cell_type": "code",
      "execution_count": null,
      "metadata": {
        "id": "UilVPAkfplHQ"
      },
      "outputs": [],
      "source": [
        "# from google.colab import files\n",
        "# uploaded = files.upload()"
      ]
    },
    {
      "cell_type": "markdown",
      "metadata": {
        "id": "s9acMGPd32sk"
      },
      "source": [
        "Downloading the Dataset from Kaggle"
      ]
    },
    {
      "cell_type": "code",
      "execution_count": null,
      "metadata": {
        "id": "_Rlm28BboA41"
      },
      "outputs": [],
      "source": [
        "!pip install jovian --upgrade --quiet"
      ]
    },
    {
      "cell_type": "code",
      "execution_count": null,
      "metadata": {
        "id": "y8UnkDvVoB5x"
      },
      "outputs": [],
      "source": [
        "import jovian"
      ]
    },
    {
      "cell_type": "code",
      "execution_count": null,
      "metadata": {
        "id": "4aI8HU5noB9m"
      },
      "outputs": [],
      "source": [
        "! mkdir ~/.kaggle"
      ]
    },
    {
      "cell_type": "code",
      "execution_count": null,
      "metadata": {
        "id": "9Ih37Y53oCAk"
      },
      "outputs": [],
      "source": [
        "! cp kaggle.json ~/.kaggle/"
      ]
    },
    {
      "cell_type": "code",
      "execution_count": null,
      "metadata": {
        "id": "4r_SeohVoCDl"
      },
      "outputs": [],
      "source": [
        "! chmod 600 ~/.kaggle/kaggle.json"
      ]
    },
    {
      "cell_type": "code",
      "execution_count": null,
      "metadata": {
        "id": "OklrP-2loCGa"
      },
      "outputs": [],
      "source": [
        "! kaggle datasets download biancaferreira/african-wildlife"
      ]
    },
    {
      "cell_type": "markdown",
      "metadata": {
        "id": "rn0hOX_ylVfX"
      },
      "source": [
        "Extracting the Dataset in Zip format"
      ]
    },
    {
      "cell_type": "code",
      "execution_count": null,
      "metadata": {
        "id": "_QrV7-jKYXPp"
      },
      "outputs": [],
      "source": [
        "with ZipFile(\"african-wildlife.zip\", \"r\") as zip_ref:\n",
        "  zip_ref.extractall()"
      ]
    },
    {
      "cell_type": "code",
      "execution_count": null,
      "metadata": {
        "id": "D9FE5lgWYshI"
      },
      "outputs": [],
      "source": [
        "class_names = [\"buffalo\", \"elephant\", \"rhino\", \"zebra\"]"
      ]
    },
    {
      "cell_type": "markdown",
      "metadata": {
        "id": "MlJq5blslaPW"
      },
      "source": [
        "Creating the Images Folder"
      ]
    },
    {
      "cell_type": "code",
      "execution_count": null,
      "metadata": {
        "id": "SKpMEpkNZDHx"
      },
      "outputs": [],
      "source": [
        "try:\n",
        "  os.makedirs(\"images\")\n",
        "except FileExistsError:\n",
        "  pass"
      ]
    },
    {
      "cell_type": "markdown",
      "metadata": {
        "id": "R-HoEvLOlc_z"
      },
      "source": [
        "Creating the Subfolders in Images"
      ]
    },
    {
      "cell_type": "code",
      "execution_count": null,
      "metadata": {
        "id": "yLtLgD_1ZV6a"
      },
      "outputs": [],
      "source": [
        "for i in class_names:\n",
        "  try:\n",
        "    os.makedirs(os.path.join(\"images\", i))\n",
        "  except FileExistsError:\n",
        "    pass"
      ]
    },
    {
      "cell_type": "markdown",
      "metadata": {
        "id": "cPcIxADKlhe8"
      },
      "source": [
        "Transferring all Images to their Respective Folders"
      ]
    },
    {
      "cell_type": "code",
      "execution_count": null,
      "metadata": {
        "id": "i2kRc1dLbClY"
      },
      "outputs": [],
      "source": [
        "for i in range(len(class_names)):\n",
        "  for filename in os.listdir(class_names[i]):\n",
        "    full_path = os.path.join(class_names[i], filename)\n",
        "    shutil.copy(full_path, os.path.join(\"images\", class_names[i], filename))\n",
        "    # if filename.split(\".\")[-1] == \"jpg\":\n"
      ]
    },
    {
      "cell_type": "markdown",
      "metadata": {
        "id": "bHfFYAEnwaZF"
      },
      "source": [
        "Visualizing Each Class of the Dataset"
      ]
    },
    {
      "cell_type": "code",
      "execution_count": null,
      "metadata": {
        "id": "f_aD5lIPUcH4"
      },
      "outputs": [],
      "source": [
        "def load_images_and_labels(base_folder):\n",
        "    animal_types = ['buffalo', 'elephant', 'rhino', 'zebra']\n",
        "    images = {animal: [] for animal in animal_types}\n",
        "    labels = {animal: [] for animal in animal_types}\n",
        "    categories = []                                                     # added\n",
        "    for animal in animal_types:\n",
        "        animal_folder = os.path.join(base_folder, animal)\n",
        "        for filename in os.listdir(animal_folder):\n",
        "            if filename.endswith('.jpg'):\n",
        "                path = os.path.join(animal_folder, filename)\n",
        "                image = cv2.imread(path)\n",
        "                if image is not None:\n",
        "                    image = cv2.cvtColor(image, cv2.COLOR_BGR2RGB)\n",
        "                    label_file = filename.replace('.jpg', '.txt')\n",
        "                    label_path = os.path.join(animal_folder, label_file)\n",
        "\n",
        "                    with open(label_path, 'r') as file:\n",
        "                        boxes = file.readlines()\n",
        "\n",
        "                    images[animal].append(image)\n",
        "                    labels[animal].append(boxes)\n",
        "                    categories.append(animal)\n",
        "    return images, labels, categories"
      ]
    },
    {
      "cell_type": "code",
      "execution_count": null,
      "metadata": {
        "id": "e1j9gOxTUc-R"
      },
      "outputs": [],
      "source": [
        "# Load a it bn46m5b ntt4. Xqnd plot images\n",
        "base_dir = r\"/content/images\"\n",
        "images, labels, categories = load_images_and_labels(base_dir)"
      ]
    },
    {
      "cell_type": "code",
      "execution_count": null,
      "metadata": {
        "id": "H837NpHRUdPj"
      },
      "outputs": [],
      "source": [
        "def show_image_with_boxes(image, boxes, category, ax):\n",
        "    ax.imshow(image)\n",
        "    for box in boxes:\n",
        "        parts = box.strip().split()\n",
        "        x_center, y_center, width, height = float(parts[1]), float(parts[2]), float(parts[3]), float(parts[4])\n",
        "        x = (x_center - width / 2) * image.shape[1]\n",
        "        y = (y_center - height / 2) * image.shape[0]\n",
        "        rect = patches.Rectangle((x, y), width * image.shape[1], height * image.shape[0], linewidth=1, edgecolor='r', facecolor='none')\n",
        "        ax.add_patch(rect)\n",
        "    ax.set_title(category)\n",
        "    ax.axis('off')"
      ]
    },
    {
      "cell_type": "code",
      "execution_count": null,
      "metadata": {
        "id": "e_WykHzUUdW0"
      },
      "outputs": [],
      "source": [
        "def plot_category_images(images, labels):\n",
        "    fig, axs = plt.subplots(1, len(images), figsize=(20, 5))\n",
        "    if len(axs) != len(images):\n",
        "        axs = [axs]  # in case there's only one category plotted, matplotlib doesn't return an array of axes\n",
        "    for ax, (category, imgs) in zip(axs, images.items()):\n",
        "        show_image_with_boxes(imgs[0], labels[category][0], category, ax)\n",
        "    plt.show()"
      ]
    },
    {
      "cell_type": "code",
      "execution_count": null,
      "metadata": {
        "id": "5-B8NMujUdbz"
      },
      "outputs": [],
      "source": [
        "plot_category_images(images, labels)"
      ]
    },
    {
      "cell_type": "markdown",
      "metadata": {
        "id": "tlhZeT0_ZybI"
      },
      "source": [
        "Distribution of Each Class"
      ]
    },
    {
      "cell_type": "code",
      "execution_count": null,
      "metadata": {
        "id": "qlEz6ZP2UdgE"
      },
      "outputs": [],
      "source": [
        "print(\"Total images loaded:\", len(images))\n",
        "print(\"Category distribution:\")\n",
        "for category in set(categories):\n",
        "    print(f\"{category}: {categories.count(category)}\")\n"
      ]
    },
    {
      "cell_type": "markdown",
      "metadata": {
        "id": "BzXoYsz2Wq6_"
      },
      "source": [
        "##EXPLORATORY DATA ANALYSIS"
      ]
    },
    {
      "cell_type": "markdown",
      "metadata": {
        "id": "i0ANN3pG3o32"
      },
      "source": [
        "Distribution of the Classes of Animals"
      ]
    },
    {
      "cell_type": "code",
      "execution_count": null,
      "metadata": {
        "id": "v9UPKl-PUdkW"
      },
      "outputs": [],
      "source": [
        "def plot_class_distribution(categories):\n",
        "    class_counts = {}\n",
        "    for category in categories:\n",
        "        if category in class_counts:\n",
        "            class_counts[category] += 1\n",
        "        else:\n",
        "            class_counts[category] = 1\n",
        "\n",
        "    plt.bar(class_counts.keys(), class_counts.values())\n",
        "    plt.xlabel('Animal')\n",
        "    plt.ylabel('Number of images')\n",
        "    plt.title('Distribution of Animal Classes')\n",
        "    plt.show()\n",
        "\n",
        "# Assuming images, labels, and categories are loaded from the modified load_images_and_labels function\n",
        "base_dir = r\"/content/images\"\n",
        "#images, labels, categories = load_images_and_labels(base_dir)\n",
        "plot_class_distribution(categories)"
      ]
    },
    {
      "cell_type": "markdown",
      "metadata": {
        "id": "AVxXgVZM3gzx"
      },
      "source": [
        "Distribution of Image Widths and Heights"
      ]
    },
    {
      "cell_type": "code",
      "execution_count": null,
      "metadata": {
        "id": "luZfQxyeUdnz"
      },
      "outputs": [],
      "source": [
        "def load_images_and_labels(base_folder):\n",
        "    animal_types = ['buffalo', 'elephant', 'rhino', 'zebra']\n",
        "    images = []\n",
        "    labels = []\n",
        "    categories = []\n",
        "\n",
        "    for animal in animal_types:\n",
        "        animal_folder = os.path.join(base_folder, animal)\n",
        "        for filename in os.listdir(animal_folder):\n",
        "            if filename.endswith('.jpg'):\n",
        "                path = os.path.join(animal_folder, filename)\n",
        "                image = cv2.imread(path)\n",
        "                if image is not None:\n",
        "                    image = cv2.cvtColor(image, cv2.COLOR_BGR2RGB)\n",
        "                    label_file = filename.replace('.jpg', '.txt')\n",
        "                    label_path = os.path.join(animal_folder, label_file)\n",
        "\n",
        "                    with open(label_path, 'r') as file:\n",
        "                        boxes = file.readlines()\n",
        "\n",
        "                    images.append(image)\n",
        "                    labels.append(boxes)\n",
        "                    categories.append(animal)\n",
        "    return images, labels, categories\n",
        "\n",
        "def plot_image_dimensions(images):\n",
        "    widths = [img.shape[1] for img in images]\n",
        "    heights = [img.shape[0] for img in images]\n",
        "\n",
        "    plt.figure(figsize=(12, 6))\n",
        "    plt.subplot(121)\n",
        "    plt.hist(widths, bins=20, color='blue', alpha=0.7)\n",
        "    plt.title('Distribution of Image Widths')\n",
        "    plt.xlabel('Width')\n",
        "    plt.ylabel('Frequency')\n",
        "\n",
        "    plt.subplot(122)\n",
        "    plt.hist(heights, bins=20, color='green', alpha=0.7)\n",
        "    plt.title('Distribution of Image Heights')\n",
        "    plt.xlabel('Height')\n",
        "\n",
        "    plt.tight_layout()\n",
        "    plt.show()\n",
        "\n",
        "# Load the images and labels\n",
        "base_dir = \"/content/images\"\n",
        "images, labels, categories = load_images_and_labels(base_dir)\n",
        "\n",
        "# Plot dimensions\n",
        "plot_image_dimensions(images)"
      ]
    },
    {
      "cell_type": "markdown",
      "metadata": {
        "id": "PRwvdr5N3RiR"
      },
      "source": [
        "Frequency Dstribution of Number of Objects per Image"
      ]
    },
    {
      "cell_type": "code",
      "execution_count": null,
      "metadata": {
        "id": "YQbkMf25Udr9"
      },
      "outputs": [],
      "source": [
        "def plot_objects_per_image(labels):\n",
        "    num_objects = [len(label) for label in labels]\n",
        "\n",
        "    plt.figure(figsize=(8, 5))\n",
        "    plt.hist(num_objects, bins=max(num_objects), color='purple', alpha=0.7)\n",
        "    plt.title('Number of Objects per Image')\n",
        "    plt.xlabel('Objects per Image')\n",
        "    plt.ylabel('Frequency')\n",
        "    plt.show()\n",
        "\n",
        "# Assuming labels are loaded\n",
        "plot_objects_per_image(labels)"
      ]
    },
    {
      "cell_type": "markdown",
      "metadata": {
        "id": "gWqCezm33Z45"
      },
      "source": [
        "Frequency Dstribution of Bounding Box Area"
      ]
    },
    {
      "cell_type": "code",
      "execution_count": null,
      "metadata": {
        "id": "oQKL_Xt-UdwX"
      },
      "outputs": [],
      "source": [
        "def plot_bbox_sizes(labels, images):\n",
        "    bbox_areas = []\n",
        "    for label, image in zip(labels, images):\n",
        "        for box in label:\n",
        "            parts = box.strip().split()\n",
        "            _, x, y, w, h = map(float, parts)\n",
        "            width_pixels = w * image.shape[1]\n",
        "            height_pixels = h * image.shape[0]\n",
        "            bbox_areas.append(width_pixels * height_pixels)\n",
        "\n",
        "    plt.figure(figsize=(8, 5))\n",
        "    plt.hist(bbox_areas, bins=30, color='red', alpha=0.7)\n",
        "    plt.title('Distribution of Bounding Box Areas')\n",
        "    plt.xlabel('Area (pixels)')\n",
        "    plt.ylabel('Frequency')\n",
        "    plt.show()\n",
        "\n",
        "\n",
        "plot_bbox_sizes(labels, images)"
      ]
    },
    {
      "cell_type": "markdown",
      "metadata": {
        "id": "kn5iK3WP4c2H"
      },
      "source": [
        "Visualizing Annotations"
      ]
    },
    {
      "cell_type": "code",
      "execution_count": null,
      "metadata": {
        "id": "kweq1pZJUd0Y"
      },
      "outputs": [],
      "source": [
        "def visualize_annotations(images, labels, categories, num_samples=4):\n",
        "    indices = random.sample(range(len(images)), num_samples)\n",
        "    fig, axs = plt.subplots(1, num_samples, figsize=(20, 5))\n",
        "\n",
        "    for i, idx in enumerate(indices):\n",
        "        image = images[idx]\n",
        "        label = labels[idx]\n",
        "        category = categories[idx]\n",
        "        ax = axs[i]\n",
        "        ax.imshow(image)\n",
        "\n",
        "        for box in label:\n",
        "            parts = box.strip().split()\n",
        "            x_center, y_center, width, height = map(float, parts[1:])\n",
        "            x = (x_center - width / 2) * image.shape[1]\n",
        "            y = (y_center - height / 2) * image.shape[0]\n",
        "            rect = patches.Rectangle((x, y), width * image.shape[1], height * image.shape[0], linewidth=2, edgecolor='r', facecolor='none')\n",
        "            ax.add_patch(rect)\n",
        "        ax.set_title(category)\n",
        "        ax.axis('off')\n",
        "    plt.show()\n",
        "\n",
        "\n",
        "visualize_annotations(images, labels, categories, num_samples=4)\n"
      ]
    },
    {
      "cell_type": "markdown",
      "metadata": {
        "id": "9VVB4f253EMi"
      },
      "source": [
        "##Data Splitting"
      ]
    },
    {
      "cell_type": "markdown",
      "metadata": {
        "id": "BUU5sxGQlqpU"
      },
      "source": [
        "Training Data"
      ]
    },
    {
      "cell_type": "code",
      "execution_count": null,
      "metadata": {
        "id": "JNz7fjOngkox"
      },
      "outputs": [],
      "source": [
        "training_data = image_dataset_from_directory(\n",
        "    directory=r\"/content/images\",\n",
        "    color_mode=\"rgb\",\n",
        "    batch_size=32,\n",
        "    image_size=(256, 256),\n",
        "    shuffle=True,\n",
        "    validation_split=0.3,\n",
        "    subset=\"training\",\n",
        "    seed = 1\n",
        ")"
      ]
    },
    {
      "cell_type": "markdown",
      "metadata": {
        "id": "HYKolHn0lujB"
      },
      "source": [
        "Validation Data"
      ]
    },
    {
      "cell_type": "code",
      "execution_count": null,
      "metadata": {
        "id": "2bro1GBAh7JL"
      },
      "outputs": [],
      "source": [
        "validation_data = image_dataset_from_directory(\n",
        "    directory = r\"/content/images\",\n",
        "    color_mode=\"rgb\",\n",
        "    batch_size=32,\n",
        "    image_size=(256, 256),\n",
        "    shuffle=False,\n",
        "    validation_split=0.2,\n",
        "    subset=\"validation\",\n",
        "    seed = 1\n",
        ")"
      ]
    },
    {
      "cell_type": "markdown",
      "metadata": {
        "id": "EGuuFXnwlwzN"
      },
      "source": [
        "Testing Data"
      ]
    },
    {
      "cell_type": "code",
      "execution_count": null,
      "metadata": {
        "id": "y125WW7-h7x2"
      },
      "outputs": [],
      "source": [
        "test_data = image_dataset_from_directory(\n",
        "    directory = r\"/content/images\",\n",
        "    color_mode=\"rgb\",\n",
        "    batch_size=32,\n",
        "    image_size=(256, 256),\n",
        "    shuffle=False,\n",
        "    validation_split=0.1,\n",
        "    subset=\"validation\",\n",
        "    seed = 1\n",
        ")"
      ]
    },
    {
      "cell_type": "markdown",
      "metadata": {
        "id": "GytWjiztl1y8"
      },
      "source": [
        "Data Preprocessing and Augmentation"
      ]
    },
    {
      "cell_type": "code",
      "execution_count": null,
      "metadata": {
        "id": "5StkfGA-iHrW"
      },
      "outputs": [],
      "source": [
        "from tensorflow.image import flip_left_right, adjust_brightness, adjust_contrast\n",
        "from keras.layers import Rescaling"
      ]
    },
    {
      "cell_type": "markdown",
      "metadata": {
        "id": "mXSSxuM1l6c2"
      },
      "source": [
        "Image Augmentation"
      ]
    },
    {
      "cell_type": "code",
      "execution_count": null,
      "metadata": {
        "id": "XJAHyAubiIS7"
      },
      "outputs": [],
      "source": [
        "def augment(image, label):\n",
        "    image = flip_left_right(image)\n",
        "    image = adjust_brightness(image, delta=0.1)\n",
        "    image = adjust_contrast(image, contrast_factor = 1.75)\n",
        "    return (image, label)"
      ]
    },
    {
      "cell_type": "markdown",
      "metadata": {
        "id": "o7sAFVtOl9wc"
      },
      "source": [
        "Image Rescaling"
      ]
    },
    {
      "cell_type": "code",
      "execution_count": null,
      "metadata": {
        "id": "Xwj74SgkiIc6"
      },
      "outputs": [],
      "source": [
        "training_data = training_data.map(lambda x,y: (x/255, y))\n",
        "validation_data = validation_data.map(lambda x,y: (x/255, y))\n",
        "test_data = test_data.map(lambda x,y: (x/255, y))"
      ]
    },
    {
      "cell_type": "code",
      "execution_count": null,
      "metadata": {
        "id": "uKpJFkWQiIi1"
      },
      "outputs": [],
      "source": [
        "training_data = training_data.map(augment, num_parallel_calls=tf.data.AUTOTUNE)"
      ]
    },
    {
      "cell_type": "markdown",
      "metadata": {
        "id": "uVQ23DUTmCrL"
      },
      "source": [
        "Data Optimization"
      ]
    },
    {
      "cell_type": "code",
      "execution_count": null,
      "metadata": {
        "id": "GTPFvO1kiIn_"
      },
      "outputs": [],
      "source": [
        "training_data = training_data.prefetch(tf.data.AUTOTUNE)\n",
        "validation_data = validation_data.prefetch(tf.data.AUTOTUNE)\n",
        "test_data = test_data.prefetch(tf.data.AUTOTUNE)"
      ]
    },
    {
      "cell_type": "markdown",
      "metadata": {
        "id": "aaIKyMwNq8LP"
      },
      "source": [
        "Building the Model"
      ]
    },
    {
      "cell_type": "code",
      "execution_count": null,
      "metadata": {
        "id": "gS5bZE9NrFBu"
      },
      "outputs": [],
      "source": [
        "old_model = keras.Sequential([\n",
        "    layers.Conv2D(16, (3,3), 1, activation = \"relu\", input_shape = (256, 256, 3)),\n",
        "    layers.MaxPooling2D(),\n",
        "\n",
        "    layers.Conv2D(32, (3,3), 1, activation = \"relu\"),\n",
        "    layers.MaxPooling2D(),\n",
        "\n",
        "    layers.Conv2D(16, (3,3), 1, activation = \"relu\"),\n",
        "    layers.MaxPooling2D(),\n",
        "\n",
        "    layers.Flatten(),\n",
        "\n",
        "    layers.Dense(256, activation=\"relu\"),\n",
        "    layers.Dense(len(class_names), activation=\"softmax\")\n",
        "])"
      ]
    },
    {
      "cell_type": "code",
      "execution_count": null,
      "metadata": {
        "id": "FYRZn5okrKwD"
      },
      "outputs": [],
      "source": [
        "old_model.compile(\n",
        "    optimizer=\"adam\",\n",
        "    loss=tf.keras.losses.SparseCategoricalCrossentropy(),\n",
        "    metrics=[\"accuracy\"]\n",
        ")"
      ]
    },
    {
      "cell_type": "markdown",
      "metadata": {
        "id": "WparbmkY28dT"
      },
      "source": [
        "Training the Model"
      ]
    },
    {
      "cell_type": "code",
      "execution_count": null,
      "metadata": {
        "id": "GSjMgDRurL8V"
      },
      "outputs": [],
      "source": [
        "history = old_model.fit(\n",
        "    training_data,\n",
        "    validation_data = validation_data,\n",
        "    epochs = 20,\n",
        ")"
      ]
    },
    {
      "cell_type": "markdown",
      "metadata": {
        "id": "-6cVFHRWrS5-"
      },
      "source": [
        "Performance Plot"
      ]
    },
    {
      "cell_type": "code",
      "execution_count": null,
      "metadata": {
        "id": "R1Br5FbsrUxe"
      },
      "outputs": [],
      "source": [
        "history_df = pd.DataFrame(history.history)"
      ]
    },
    {
      "cell_type": "code",
      "execution_count": null,
      "metadata": {
        "id": "S3QbsUN2rXpR"
      },
      "outputs": [],
      "source": [
        "history_df.loc[:, [\"loss\", \"val_loss\"]].plot()\n",
        "plt.title(\"LOSS\")\n",
        "plt.show()"
      ]
    },
    {
      "cell_type": "code",
      "execution_count": null,
      "metadata": {
        "id": "T2bYUVZerX_p"
      },
      "outputs": [],
      "source": [
        "history_df.loc[:, [\"accuracy\", \"val_accuracy\"]].plot()\n",
        "plt.title(\"ACCURACY\")\n",
        "plt.show()"
      ]
    },
    {
      "cell_type": "markdown",
      "metadata": {
        "id": "GtwIkgXkrnAQ"
      },
      "source": [
        "Model Evaluation on the Test Data Using Loss and Accuracy"
      ]
    },
    {
      "cell_type": "code",
      "execution_count": null,
      "metadata": {
        "id": "qQpJVZ7-rYIX"
      },
      "outputs": [],
      "source": [
        "loss, accuracy = old_model.evaluate(test_data)\n",
        "print(f\"The accuracy of the model on the testing data --> {round(accuracy, 3)} and the loss --> {round(loss, 3)}\")"
      ]
    },
    {
      "cell_type": "markdown",
      "metadata": {
        "id": "3w1qNepg1Zyv"
      },
      "source": [
        "Model Evaluation the Validation Data"
      ]
    },
    {
      "cell_type": "code",
      "execution_count": null,
      "metadata": {
        "id": "tAkP92iR1Y1Q"
      },
      "outputs": [],
      "source": [
        "loss, accuracy = old_model.evaluate(validation_data)\n",
        "print(f\"The accuracy of the model on the validation data --> {round(accuracy, 3)} and the loss --> {round(loss, 3)}\")"
      ]
    },
    {
      "cell_type": "markdown",
      "metadata": {
        "id": "lOjuNkMfmG4t"
      },
      "source": [
        "Applying Transfer Learning to Improve Model"
      ]
    },
    {
      "cell_type": "code",
      "execution_count": null,
      "metadata": {
        "id": "OVbbP-JsiIsk"
      },
      "outputs": [],
      "source": [
        "from keras.applications import EfficientNetV2L"
      ]
    },
    {
      "cell_type": "code",
      "execution_count": null,
      "metadata": {
        "id": "3YAWxeoIiIwz"
      },
      "outputs": [],
      "source": [
        "new_model = EfficientNetV2L(\n",
        "    weights=\"imagenet\",\n",
        "    include_top = False,\n",
        "    input_shape= (256, 256, 3)\n",
        ")\n",
        "for layer in new_model.layers:\n",
        "    layer.trainable = False"
      ]
    },
    {
      "cell_type": "markdown",
      "metadata": {
        "id": "xRyS1SiomKl3"
      },
      "source": [
        "Applying Callbacks: EarlyStopping"
      ]
    },
    {
      "cell_type": "code",
      "execution_count": null,
      "metadata": {
        "id": "N8t3lYDoiI07"
      },
      "outputs": [],
      "source": [
        "call_backs = keras.callbacks.EarlyStopping(\n",
        "    patience= 3,\n",
        "    monitor = \"val_loss\"\n",
        ")"
      ]
    },
    {
      "cell_type": "markdown",
      "metadata": {
        "id": "q3BEw7oCmNm8"
      },
      "source": [
        "Creating the New Model with Transfer Learning"
      ]
    },
    {
      "cell_type": "code",
      "execution_count": null,
      "metadata": {
        "id": "gaD18QZQiI41"
      },
      "outputs": [],
      "source": [
        "final_model = keras.Sequential([\n",
        "    new_model,\n",
        "    layers.Conv2D(32,(3,3), 1, activation=\"relu\"),\n",
        "    layers.GlobalAveragePooling2D(),\n",
        "    layers.Dense(256, activation=\"relu\"),\n",
        "    layers.Dropout(0.2),\n",
        "    layers.Dense(256, activation=\"relu\"),\n",
        "    layers.Dropout(0.2),\n",
        "    layers.Dense(len(class_names), activation=\"softmax\")\n",
        "])"
      ]
    },
    {
      "cell_type": "code",
      "execution_count": null,
      "metadata": {
        "id": "lSnpYM7OiI8O"
      },
      "outputs": [],
      "source": [
        "final_model.compile(\n",
        "    optimizer=Adam(learning_rate=0.01),\n",
        "    loss = keras.losses.SparseCategoricalCrossentropy(),\n",
        "    metrics = [\"accuracy\"],\n",
        ")"
      ]
    },
    {
      "cell_type": "markdown",
      "metadata": {
        "id": "OP9X6uV8mS4Y"
      },
      "source": [
        "Training the model"
      ]
    },
    {
      "cell_type": "code",
      "execution_count": null,
      "metadata": {
        "id": "q0b4YALpiI_f"
      },
      "outputs": [],
      "source": [
        "history = final_model.fit(\n",
        "    training_data,\n",
        "    epochs=20,\n",
        "    validation_data=validation_data,\n",
        "    # callbacks=[call_backs],\n",
        ")"
      ]
    },
    {
      "cell_type": "markdown",
      "metadata": {
        "id": "4N1qKnfumcY4"
      },
      "source": [
        "Performance Plot"
      ]
    },
    {
      "cell_type": "code",
      "execution_count": null,
      "metadata": {
        "id": "2Emel3B8iJDG"
      },
      "outputs": [],
      "source": [
        "history_df = pd.DataFrame(history.history)\n",
        "history_df.head()"
      ]
    },
    {
      "cell_type": "code",
      "execution_count": null,
      "metadata": {
        "id": "Nl9Lnx_DiJGX"
      },
      "outputs": [],
      "source": [
        "history_df.loc[:, [\"loss\", \"val_loss\"]].plot()\n",
        "plt.title(\"LOSS\")\n",
        "plt.show()"
      ]
    },
    {
      "cell_type": "code",
      "execution_count": null,
      "metadata": {
        "id": "QbrqwQEUmzj-"
      },
      "outputs": [],
      "source": [
        "history_df.loc[:, [\"accuracy\", \"val_accuracy\"]].plot()\n",
        "plt.title(\"ACCURACY\")\n",
        "plt.show()"
      ]
    },
    {
      "cell_type": "markdown",
      "metadata": {
        "id": "sK0MnyaknDy-"
      },
      "source": [
        "Model Evaluation on Test Data Using Loss and Accuracy"
      ]
    },
    {
      "cell_type": "code",
      "execution_count": null,
      "metadata": {
        "id": "Di3uqwuTwCR-"
      },
      "outputs": [],
      "source": [
        "loss, accuracy = final_model.evaluate(test_data)\n",
        "print(f\"The accuracy of the tf_model on testing data --> {round(accuracy, 3)} and the loss --> {round(loss, 3)}\")"
      ]
    },
    {
      "cell_type": "markdown",
      "metadata": {
        "id": "7FAr1zbgzama"
      },
      "source": [
        "Model Evaluation on training data"
      ]
    },
    {
      "cell_type": "code",
      "execution_count": null,
      "metadata": {
        "id": "in2Ip7M6zMB-"
      },
      "outputs": [],
      "source": [
        "final_model.evaluate(training_data)\n",
        "print(f\"The accuracy of the model on the training data --> {round(accuracy, 3)} and the loss --> {round(loss, 3)}\")"
      ]
    },
    {
      "cell_type": "markdown",
      "metadata": {
        "id": "YMVEC3PazkUu"
      },
      "source": [
        "Model Evaluation on the Validation data"
      ]
    },
    {
      "cell_type": "code",
      "execution_count": null,
      "metadata": {
        "id": "Pz_yzt2bzVsE"
      },
      "outputs": [],
      "source": [
        "final_model.evaluate(validation_data)\n",
        "print(f\"The accuracy of the model on the validation data --> {round(accuracy, 3)} and the loss --> {round(loss, 3)}\")"
      ]
    },
    {
      "cell_type": "markdown",
      "metadata": {
        "id": "flLNnWNoDZt6"
      },
      "source": [
        "Saving the model"
      ]
    },
    {
      "cell_type": "code",
      "execution_count": null,
      "metadata": {
        "id": "5kd1vYQNDcVh"
      },
      "outputs": [],
      "source": [
        "final_model.save(\"Animal_Wildlife_Classifier.h5\")"
      ]
    },
    {
      "cell_type": "markdown",
      "metadata": {
        "id": "msEhIXTXnVmg"
      },
      "source": [
        "Testing the Model"
      ]
    },
    {
      "cell_type": "code",
      "execution_count": null,
      "metadata": {
        "id": "FcNF6Q4Km6Uc"
      },
      "outputs": [],
      "source": [
        "def test_model(img_path):\n",
        "    img = cv2.imread(img_path)\n",
        "\n",
        "    # Resizing the image\n",
        "    resized_image = tf.image.resize(img, (256,256))\n",
        "\n",
        "    # Reshape it or wrap it with the initial images shape\n",
        "    final_img = np.expand_dims(resized_image, 0)\n",
        "\n",
        "    # Predicting the image\n",
        "    prediction = tf_model.predict(final_img)\n",
        "    prediction = np.argmax(prediction)\n",
        "    animal_name = class_names[prediction]\n",
        "    return f\"Animal ---> {animal_name}\""
      ]
    },
    {
      "cell_type": "markdown",
      "metadata": {
        "id": "KGO3066QzZ0f"
      },
      "source": [
        "Buffalo test"
      ]
    },
    {
      "cell_type": "code",
      "execution_count": null,
      "metadata": {
        "id": "A7_phcdqm6Xh"
      },
      "outputs": [],
      "source": [
        "# test_model(r\"/content/buffalotest.jpg\")"
      ]
    },
    {
      "cell_type": "markdown",
      "metadata": {
        "id": "0fSrkq0HzdE0"
      },
      "source": [
        "Elephant test"
      ]
    },
    {
      "cell_type": "code",
      "execution_count": null,
      "metadata": {
        "id": "x1uGBwzczb5T"
      },
      "outputs": [],
      "source": [
        "# test_model(r\"/content/elephanttest.jpg\")"
      ]
    },
    {
      "cell_type": "markdown",
      "metadata": {
        "id": "jt90XuLNzgLi"
      },
      "source": [
        "Rhino test"
      ]
    },
    {
      "cell_type": "code",
      "execution_count": null,
      "metadata": {
        "id": "EvytCwdGm6gs"
      },
      "outputs": [],
      "source": [
        "# test_model(r\"/content/rhinotest.jpg\")"
      ]
    },
    {
      "cell_type": "markdown",
      "metadata": {
        "id": "UTxi-jRrziod"
      },
      "source": [
        "Zebra test"
      ]
    },
    {
      "cell_type": "code",
      "execution_count": null,
      "metadata": {
        "id": "MPiXNDYEzkEh"
      },
      "outputs": [],
      "source": [
        "# test_model(r\"/content/zebratest.jpg\")"
      ]
    },
    {
      "cell_type": "code",
      "execution_count": null,
      "metadata": {
        "id": "XGYxTUGoqNAJ"
      },
      "outputs": [],
      "source": []
    }
  ],
  "metadata": {
    "accelerator": "GPU",
    "colab": {
      "gpuType": "T4",
      "provenance": [],
      "include_colab_link": true
    },
    "kernelspec": {
      "display_name": "Python 3",
      "name": "python3"
    },
    "language_info": {
      "name": "python"
    }
  },
  "nbformat": 4,
  "nbformat_minor": 0
}